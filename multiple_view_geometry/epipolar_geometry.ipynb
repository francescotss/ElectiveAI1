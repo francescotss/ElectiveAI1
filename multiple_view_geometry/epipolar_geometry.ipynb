{
 "cells": [
  {
   "cell_type": "code",
   "execution_count": 1,
   "metadata": {},
   "outputs": [],
   "source": [
    "%matplotlib notebook\n",
    "import ipywidgets as widgets\n",
    "from ipywidgets import interact, interact_manual"
   ]
  },
  {
   "cell_type": "code",
   "execution_count": 2,
   "metadata": {},
   "outputs": [],
   "source": [
    "import numpy as np\n",
    "import matplotlib.pyplot as plt\n",
    " \n",
    "from multiple_view_geometry.scene import Scene\n",
    "from multiple_view_geometry.cube import Cube\n",
    "from multiple_view_geometry.camera import Camera\n",
    "from multiple_view_geometry.camera_image_renderer import CameraImageRenderer\n",
    "from multiple_view_geometry.homogeneous_matrix import HomogeneousMatrix\n",
    "from multiple_view_geometry.transform_utils import create_rotation_mat_from_rpy\n",
    "plt.ion()"
   ]
  },
  {
   "cell_type": "markdown",
   "metadata": {},
   "source": [
    "The following camera model is followed:\n",
    "![https://docs.opencv.org/2.4/modules/calib3d/doc/camera_calibration_and_3d_reconstruction.html](imgs/pinhole_camera_model.png)\n"
   ]
  },
  {
   "cell_type": "code",
   "execution_count": 3,
   "metadata": {},
   "outputs": [
    {
     "data": {
      "application/vnd.jupyter.widget-view+json": {
       "model_id": "9ffef60f4878454aa7717b3323c1f82b",
       "version_major": 2,
       "version_minor": 0
      },
      "text/plain": [
       "interactive(children=(IntSlider(value=350, description='cam0_focal_length_in_pixel', max=1050, min=-350), Floa…"
      ]
     },
     "metadata": {},
     "output_type": "display_data"
    }
   ],
   "source": [
    "@interact\n",
    "def render(cam0_focal_length_in_pixel=350, cam0_yaw=(-np.pi, np.pi, np.pi/180), show_epipolar_line=True):\n",
    "    camera0_extrinsic = HomogeneousMatrix.create([1.7,0.0,0.5], create_rotation_mat_from_rpy(-np.pi/2, 0, -np.pi/4+cam0_yaw))\n",
    "    camera0 = Camera('0', camera0_extrinsic, cam0_focal_length_in_pixel)\n",
    "\n",
    "    camera1_extrinsic = HomogeneousMatrix.create([2.3,0.0,0.5], create_rotation_mat_from_rpy(-np.pi/2, 0.0, 0))\n",
    "    camera1 = Camera('1', camera1_extrinsic)\n",
    "\n",
    "    cube = Cube((2,3,0), (2,2,2), resolution=1)\n",
    "    renderer = CameraImageRenderer({camera0: 'red', camera1: 'blue'}, show_image_frame=True, show_epipolar_lines=show_epipolar_line)\n",
    "    scene = Scene(cube, [camera0, camera1], renderer)\n",
    "    scene.project()\n",
    "    plt.draw()\n",
    "\n"
   ]
  },
  {
   "cell_type": "code",
   "execution_count": null,
   "metadata": {},
   "outputs": [],
   "source": []
  },
  {
   "cell_type": "code",
   "execution_count": null,
   "metadata": {},
   "outputs": [],
   "source": []
  }
 ],
 "metadata": {
  "kernelspec": {
   "display_name": "Python 3",
   "language": "python",
   "name": "python3"
  },
  "language_info": {
   "codemirror_mode": {
    "name": "ipython",
    "version": 3
   },
   "file_extension": ".py",
   "mimetype": "text/x-python",
   "name": "python",
   "nbconvert_exporter": "python",
   "pygments_lexer": "ipython3",
   "version": "3.6.6"
  }
 },
 "nbformat": 4,
 "nbformat_minor": 2
}
